{
  "nbformat": 4,
  "nbformat_minor": 0,
  "metadata": {
    "colab": {
      "provenance": [],
      "authorship_tag": "ABX9TyNbc2EvvggQ9BbzhaCrirNi",
      "include_colab_link": true
    },
    "kernelspec": {
      "name": "python3",
      "display_name": "Python 3"
    },
    "language_info": {
      "name": "python"
    }
  },
  "cells": [
    {
      "cell_type": "markdown",
      "metadata": {
        "id": "view-in-github",
        "colab_type": "text"
      },
      "source": [
        "<a href=\"https://colab.research.google.com/github/isCraftingCode/GP2_LiPo_Battery_RUL/blob/main/DataLabeling.ipynb\" target=\"_parent\"><img src=\"https://colab.research.google.com/assets/colab-badge.svg\" alt=\"Open In Colab\"/></a>"
      ]
    },
    {
      "cell_type": "code",
      "execution_count": null,
      "metadata": {
        "id": "URW4G68wmMHa"
      },
      "outputs": [],
      "source": [
        "import os"
      ]
    },
    {
      "cell_type": "code",
      "source": [
        "import pandas as pd"
      ],
      "metadata": {
        "id": "aU-QhA5ZmRDX"
      },
      "execution_count": null,
      "outputs": []
    },
    {
      "cell_type": "code",
      "source": [
        "input_folder = \"./raw_stress_discharge\"\n",
        "output_folder = \"./clean4_stress_discharge\""
      ],
      "metadata": {
        "id": "7prnXh7HmVFm"
      },
      "execution_count": null,
      "outputs": []
    },
    {
      "cell_type": "code",
      "source": [
        "os.makedirs(output_folder, exist_ok=True)"
      ],
      "metadata": {
        "id": "Oo9NLiXhmqes"
      },
      "execution_count": null,
      "outputs": []
    },
    {
      "cell_type": "code",
      "source": [
        "#ignore this\n",
        "\n",
        "from posix import read\n",
        "for filename in os.listdir(input_folder):\n",
        "    if filename.endswith(\".csv\"):\n",
        "        input_path = os.path.join(input_folder, filename)\n",
        "        output_path = os.path.join(output_folder, filename)\n",
        "\n",
        "        try:\n",
        "          df = pd.read_csv(input_path, sep=r\"\\s+\", header = None)\n",
        "          df.columns = [\"Time (s)\", \"Current (A)\", \"Voltage(V)\"]\n",
        "          # Save as clean CSV (comma-separated)\n",
        "          df.to_csv(output_path, index=False)\n",
        "          print(f\"✅ Cleaned: {filename}\")\n",
        "        except Exception as e:\n",
        "            print(f\"❌ Failed to clean {filename}: {e}\")"
      ],
      "metadata": {
        "id": "8VASj47Fmvmy"
      },
      "execution_count": null,
      "outputs": []
    },
    {
      "cell_type": "code",
      "source": [
        "#ignore\n",
        "import shutil"
      ],
      "metadata": {
        "id": "TbghUls-nw9J"
      },
      "execution_count": null,
      "outputs": []
    },
    {
      "cell_type": "code",
      "source": [
        "#ignore\n",
        "shutil.make_archive(\"./clean4_stress_discharge\", \"zip\", \"./clean4_stress_discharge\")"
      ],
      "metadata": {
        "colab": {
          "base_uri": "https://localhost:8080/",
          "height": 35
        },
        "id": "uxN8cddQqzvL",
        "outputId": "abfe40e4-f710-49dc-e772-6ad7c932d54c"
      },
      "execution_count": null,
      "outputs": [
        {
          "output_type": "execute_result",
          "data": {
            "text/plain": [
              "'/content/clean4_stress_discharge.zip'"
            ],
            "application/vnd.google.colaboratory.intrinsic+json": {
              "type": "string"
            }
          },
          "metadata": {},
          "execution_count": 7
        }
      ]
    },
    {
      "cell_type": "code",
      "source": [
        "from google.colab import files\n",
        "files.download(\"clean4_stress_discharge.zip\")"
      ],
      "metadata": {
        "colab": {
          "base_uri": "https://localhost:8080/",
          "height": 17
        },
        "id": "BZYfGE3eq2eq",
        "outputId": "269dbf51-7881-41ef-ec87-97052301afa0"
      },
      "execution_count": null,
      "outputs": [
        {
          "output_type": "display_data",
          "data": {
            "text/plain": [
              "<IPython.core.display.Javascript object>"
            ],
            "application/javascript": [
              "\n",
              "    async function download(id, filename, size) {\n",
              "      if (!google.colab.kernel.accessAllowed) {\n",
              "        return;\n",
              "      }\n",
              "      const div = document.createElement('div');\n",
              "      const label = document.createElement('label');\n",
              "      label.textContent = `Downloading \"${filename}\": `;\n",
              "      div.appendChild(label);\n",
              "      const progress = document.createElement('progress');\n",
              "      progress.max = size;\n",
              "      div.appendChild(progress);\n",
              "      document.body.appendChild(div);\n",
              "\n",
              "      const buffers = [];\n",
              "      let downloaded = 0;\n",
              "\n",
              "      const channel = await google.colab.kernel.comms.open(id);\n",
              "      // Send a message to notify the kernel that we're ready.\n",
              "      channel.send({})\n",
              "\n",
              "      for await (const message of channel.messages) {\n",
              "        // Send a message to notify the kernel that we're ready.\n",
              "        channel.send({})\n",
              "        if (message.buffers) {\n",
              "          for (const buffer of message.buffers) {\n",
              "            buffers.push(buffer);\n",
              "            downloaded += buffer.byteLength;\n",
              "            progress.value = downloaded;\n",
              "          }\n",
              "        }\n",
              "      }\n",
              "      const blob = new Blob(buffers, {type: 'application/binary'});\n",
              "      const a = document.createElement('a');\n",
              "      a.href = window.URL.createObjectURL(blob);\n",
              "      a.download = filename;\n",
              "      div.appendChild(a);\n",
              "      a.click();\n",
              "      div.remove();\n",
              "    }\n",
              "  "
            ]
          },
          "metadata": {}
        },
        {
          "output_type": "display_data",
          "data": {
            "text/plain": [
              "<IPython.core.display.Javascript object>"
            ],
            "application/javascript": [
              "download(\"download_5139e353-213c-4270-8915-a0faf077c891\", \"clean4_stress_discharge.zip\", 5350123)"
            ]
          },
          "metadata": {}
        }
      ]
    },
    {
      "cell_type": "code",
      "source": [
        "#start here\n",
        "import os\n",
        "import pandas as pd"
      ],
      "metadata": {
        "id": "jxQ-T40bq6Aq"
      },
      "execution_count": null,
      "outputs": []
    },
    {
      "cell_type": "code",
      "source": [
        "folder = \"./stress_discharge_files/\""
      ],
      "metadata": {
        "id": "5kO8kVVkmAAO"
      },
      "execution_count": null,
      "outputs": []
    },
    {
      "cell_type": "code",
      "source": [
        "final_data = []"
      ],
      "metadata": {
        "id": "DSFwX3jtmHLO"
      },
      "execution_count": null,
      "outputs": []
    },
    {
      "cell_type": "code",
      "source": [
        "files = sorted(\n",
        "    [f for f in os.listdir(folder) if f.endswith(\"_stressdischarge.csv\")],\n",
        "    key = lambda x: int(x.split(\"_\")[1])\n",
        "\n",
        ")"
      ],
      "metadata": {
        "id": "PUruY907mL9L"
      },
      "execution_count": null,
      "outputs": []
    },
    {
      "cell_type": "code",
      "source": [
        "# Loop through files in sorted order\n",
        "for filename in files:\n",
        "    cycle_num = int(filename.split(\"_\")[1])  # assumes format: 2_<cycle>_stressdischarge.csv\n",
        "    filepath = os.path.join(folder, filename)\n",
        "\n",
        "    try:\n",
        "        df = pd.read_csv(filepath)\n",
        "\n",
        "        # Feature calculations\n",
        "        avg_v = df[\"Voltage(V)\"].mean()\n",
        "        min_v = df[\"Voltage(V)\"].min()\n",
        "        max_v = df[\"Voltage(V)\"].max()\n",
        "        drop_rate = (max_v - min_v) / (df[\"Time (s)\"].max() - df[\"Time (s)\"].min())\n",
        "        avg_i = df[\"Current (A)\"].mean()\n",
        "        duration = df[\"Time (s)\"].max() - df[\"Time (s)\"].min()\n",
        "\n",
        "        # Append all values\n",
        "        final_data.append({\n",
        "            \"Cycle\": cycle_num,\n",
        "            \"Avg_V\": avg_v,\n",
        "            \"Min_V\": min_v,\n",
        "            \"Max_V\": max_v,\n",
        "            \"Drop_Rate\": drop_rate,\n",
        "            \"Avg_I\": avg_i,\n",
        "            \"Duration\": duration,\n",
        "        })\n",
        "    except Exception as e:\n",
        "        print(f\"❌ Error processing {filename}: {e}\")\n",
        "\n",
        "# Convert to final DataFrame\n",
        "LiPo1_final_stressdata = pd.DataFrame(final_data).sort_values(\"Cycle\").reset_index(drop=True)\n",
        "\n",
        "# Save as Excel\n",
        "LiPo1_final_stressdata.to_excel(\"LiPo1_final_stressdata.xlsx\", index=False)\n",
        "\n",
        "print(\"✅ Feature dataset created and saved successfully!\")\n"
      ],
      "metadata": {
        "colab": {
          "base_uri": "https://localhost:8080/"
        },
        "id": "hGOl_ZzImyFF",
        "outputId": "8c0daeaa-3654-4eda-c995-c9cf713db985"
      },
      "execution_count": null,
      "outputs": [
        {
          "output_type": "stream",
          "name": "stdout",
          "text": [
            "✅ Feature dataset created and saved successfully!\n"
          ]
        }
      ]
    },
    {
      "cell_type": "code",
      "source": [],
      "metadata": {
        "colab": {
          "base_uri": "https://localhost:8080/"
        },
        "id": "gURBO-BknRLF",
        "outputId": "cca636ab-b619-4ade-f352-cdbd87439e3b"
      },
      "execution_count": null,
      "outputs": [
        {
          "output_type": "execute_result",
          "data": {
            "text/plain": [
              "Index(['Time', 'Current', 'Voltage'], dtype='object')"
            ]
          },
          "metadata": {},
          "execution_count": 6
        }
      ]
    },
    {
      "cell_type": "code",
      "source": [],
      "metadata": {
        "id": "kBMi3IuEo0Dm"
      },
      "execution_count": null,
      "outputs": []
    }
  ]
}